{
  "nbformat": 4,
  "nbformat_minor": 0,
  "metadata": {
    "colab": {
      "name": "ENCONTRO 01 - TREINAMENTO DE PYTHON. ",
      "provenance": [],
      "collapsed_sections": []
    },
    "kernelspec": {
      "display_name": "Python 3",
      "name": "python3"
    }
  },
  "cells": [
    {
      "cell_type": "markdown",
      "metadata": {
        "id": "vqmmt5T81JwR"
      },
      "source": [
        "#**README**#\n",
        "\n",
        "O Treinamento de Python é um projeto desenvolvido pelo Laboratório de\n",
        "Instrumentação Eletrônica e Controle (LIEC) e pelo Programa de Educação Tutorial\n",
        "de Engenharia Elétrica da Universidade Federal de Campina Grande (PET Elétrica\n",
        "UFCG), que tem como objetivo principal, durante a sua execução, desenvolver\n",
        "habilidades relacionadas a linguagem de programação Python, com foco em\n",
        "aplicações para engenheiros e para cientistas.\n",
        "\n",
        "Todo conteúdo produzido neste notebook foi adaptado por Rafael dos Santos Lima e por Tâmara Ruth Dantas dos Santos. Algumas sintaxes foram revisadas com auxilio da documentação do Python (https://docs.python.org/3/tutorial/index.html), do W3Schools (https://www.w3schools.com/python/default.asp) e do livro: \"Curso Intensivo de Python\".\n",
        "\n",
        "Este notebook será atualizado frequentemente.\n",
        "\n",
        "---\n",
        "\n",
        "Para mais informações e/ou sanar eventuais dúvidas, entrar em contato com:\n",
        "*   Rafael - rafaelsantos.lima@ee.ufcg.edu.br\n",
        "*   Tâmara - tamara.santos@ee.ufcg.edu.br"
      ]
    },
    {
      "cell_type": "markdown",
      "metadata": {
        "id": "u9Quv-l_kpYE"
      },
      "source": [
        "# **Iniciando no Python** #"
      ]
    },
    {
      "cell_type": "markdown",
      "metadata": {
        "id": "3-VPnQB1vOEc"
      },
      "source": [
        "**O que é Python?**\n",
        "\n",
        "* Python é uma linguagem de programação de alto nível, orientada a objetos, de tipagem dinâmica e multiparadigma. Foi lançada em 1991, por Guido Van Rossum.\n",
        "\n",
        "* Um dos pontos fortes da linguagem é a combinação de uma sintaxe concisa e clara com bibliotecas poderosas, frameworks e módulos de terceiros. Vale ressaltar que Python prioriza a legibilidade do código sobre a velocidade ou expressividade."
      ]
    },
    {
      "cell_type": "markdown",
      "metadata": {
        "id": "-tCF0P57vkLy"
      },
      "source": [
        "## **Hello World** ##\n",
        "\n",
        "Uma crença de longa data no mundo da programação é que exibir uma mensagem ‘Hello world!’ na tela como seu primeiro programa em uma nova linguagem trará sorte.\n",
        "\n",
        "> Em Python, podemos escrever o programa Hello World com uma linha: ***print(‘Hello world!’)***.\n",
        "\n",
        "\n"
      ]
    },
    {
      "cell_type": "code",
      "metadata": {
        "id": "eL7t4zIIko4E",
        "colab": {
          "base_uri": "https://localhost:8080/"
        },
        "outputId": "49977ef7-450e-40a7-bda9-aa8ed06b8755"
      },
      "source": [
        "print('Hello world!')\n",
        "print(\"Hello world!')"
      ],
      "execution_count": null,
      "outputs": [
        {
          "output_type": "stream",
          "name": "stdout",
          "text": [
            "Hello world!\n",
            "Hello world!\n"
          ]
        }
      ]
    },
    {
      "cell_type": "markdown",
      "metadata": {
        "id": "V2om3QiwphIs"
      },
      "source": [
        "Curiosidade: A função *print()* possui um argumento nomeado *end*, que tem em sí, a atribuição do valor '\\n', o que confere à função print uma quebra de linha a cada uso da função. Esse valor pode ser alterado."
      ]
    },
    {
      "cell_type": "code",
      "metadata": {
        "id": "jfzP0e6Gpex9",
        "colab": {
          "base_uri": "https://localhost:8080/"
        },
        "outputId": "c886cfc6-e588-49ac-ee18-1464310acb49"
      },
      "source": [
        "print(\"Olá\")\n",
        "print(\"Pessoa\")"
      ],
      "execution_count": null,
      "outputs": [
        {
          "output_type": "stream",
          "name": "stdout",
          "text": [
            "Olá\n",
            "Pessoa\n"
          ]
        }
      ]
    },
    {
      "cell_type": "code",
      "metadata": {
        "id": "BwmUaoj4poSV",
        "colab": {
          "base_uri": "https://localhost:8080/"
        },
        "outputId": "55931a24-64e8-4559-8ffe-10c5f82469ed"
      },
      "source": [
        "# Modificamos o argumento end='\\n', para retirar a quebra de linha automática da função print()\n",
        "print(\"Olá\", end=' ')\n",
        "print(\"Pessoa\")"
      ],
      "execution_count": null,
      "outputs": [
        {
          "output_type": "stream",
          "name": "stdout",
          "text": [
            "Olá Pessoa\n"
          ]
        }
      ]
    },
    {
      "cell_type": "markdown",
      "metadata": {
        "id": "rAhE1RR2wvm_"
      },
      "source": [
        "# **Variáveis e tipos de dados simples** #\n",
        "\n"
      ]
    },
    {
      "cell_type": "markdown",
      "metadata": {
        "id": "ocSD6BazOVra"
      },
      "source": [
        "## **Introdução** ##\n",
        "\n",
        "As variáveis são recipientes para armazenamento de valores de dados. Ao contrário de outras linguagens de programação, Python não tem nenhum comando para declarar uma variável.\n",
        "\n",
        "> Uma variável é criada no momento em que se lhe atribui um valor pela primeira vez. Podemos mudar o valor de uma variável em nosso programa a qualquer momento, e Python sempre manterá o controle do valor atual.\n",
        "\n",
        "> Caso deseje limpar uma variável, você pode escrever ***del VARIÁVEL***. Perceba que ao tentarmos printar \"mensagem\", Python retornará um erro, pois nossa variável foi deletada na linha anterior."
      ]
    },
    {
      "cell_type": "code",
      "metadata": {
        "id": "kSg856xAq__y",
        "colab": {
          "base_uri": "https://localhost:8080/",
          "height": 197
        },
        "outputId": "e70918b4-c930-4246-a33b-bfed8fe37ee8"
      },
      "source": [
        "minha_mensagem = 'Olá você'\n",
        "\n",
        "# Deletando nossa variável.\n",
        "del minha_mensagem\n",
        "\n",
        "print(minha_mensagem)"
      ],
      "execution_count": null,
      "outputs": [
        {
          "output_type": "error",
          "ename": "NameError",
          "evalue": "ignored",
          "traceback": [
            "\u001b[0;31m---------------------------------------------------------------------------\u001b[0m",
            "\u001b[0;31mNameError\u001b[0m                                 Traceback (most recent call last)",
            "\u001b[0;32m<ipython-input-65-ab294a8bf86d>\u001b[0m in \u001b[0;36m<module>\u001b[0;34m()\u001b[0m\n\u001b[1;32m      4\u001b[0m \u001b[0;32mdel\u001b[0m \u001b[0mminha_mensagem\u001b[0m\u001b[0;34m\u001b[0m\u001b[0;34m\u001b[0m\u001b[0m\n\u001b[1;32m      5\u001b[0m \u001b[0;34m\u001b[0m\u001b[0m\n\u001b[0;32m----> 6\u001b[0;31m \u001b[0mprint\u001b[0m\u001b[0;34m(\u001b[0m\u001b[0mminha_mensagem\u001b[0m\u001b[0;34m)\u001b[0m\u001b[0;34m\u001b[0m\u001b[0;34m\u001b[0m\u001b[0m\n\u001b[0m",
            "\u001b[0;31mNameError\u001b[0m: name 'minha_mensagem' is not defined"
          ]
        }
      ]
    },
    {
      "cell_type": "markdown",
      "metadata": {
        "id": "4VTs5SP4ROFc"
      },
      "source": [
        " **Tipos de dados** \n",
        "\n",
        "Python possui os seguintes tipos de dados padrão:\n",
        "\n",
        "| **TIPOS**  |          **EXEMPLOS**          |\n",
        "|:----------:|:----------------------------:  |\n",
        "| Textual    | *str*                          |\n",
        "| Numericas  | *int, float, complex*          |\n",
        "| Sequências | *list, tuple, range*           |\n",
        "| Mapeamento | *dict*                         |\n",
        "| Conjuntos  | *set, frozenset*               |\n",
        "| Booleano   | *bool*                         |\n",
        "| Binário    | *bytes, bytearray, memoryview* |\n",
        "\n",
        "\n"
      ]
    },
    {
      "cell_type": "markdown",
      "metadata": {
        "id": "lq0Dqrla061s"
      },
      "source": [
        "## **Strings** ##\n",
        "\n",
        "Uma string é simplesmente uma série de caracteres. Tudo que estiver entre aspas é considerada uma string em Python.\n",
        "\n",
        "> Você pode usar aspas simples ou duplas em torno de suas strings, assim: **\"Isso é uma string\"** . Com a função *type()* podemos verificar o tipo do dado das nossas variáveis.\n",
        "\n",
        "```py\n",
        "# O argumento da função type é um objeto python\n",
        "type(object)\n",
        "```"
      ]
    },
    {
      "cell_type": "code",
      "metadata": {
        "id": "zO4WbxcV2Dj5",
        "colab": {
          "base_uri": "https://localhost:8080/"
        },
        "outputId": "d2f54cc4-c733-4e0c-e70b-720a5b73a6af"
      },
      "source": [
        "# Armazenando uma string numa variável\n",
        "mensagem = \"Isso é uma string\"\n",
        "\n",
        "print(mensagem)"
      ],
      "execution_count": null,
      "outputs": [
        {
          "output_type": "stream",
          "name": "stdout",
          "text": [
            "Isso é uma string\n"
          ]
        }
      ]
    },
    {
      "cell_type": "code",
      "metadata": {
        "id": "feAa_2agUKu8",
        "colab": {
          "base_uri": "https://localhost:8080/"
        },
        "outputId": "2bfa8407-9f29-4f2d-be0c-9d99e7d10d58"
      },
      "source": [
        "print(type(mensagem))"
      ],
      "execution_count": null,
      "outputs": [
        {
          "output_type": "stream",
          "name": "stdout",
          "text": [
            "<class 'str'>\n"
          ]
        }
      ]
    },
    {
      "cell_type": "markdown",
      "metadata": {
        "id": "HdyXRWzkvy6s"
      },
      "source": [
        "**Concatenando Strings**\n",
        "\n",
        "Muitas vezes, será conveniente combinar strings, que basicamente significa juntar duas strings numa só.\n",
        "\n",
        "> Python usa o símbolo de adição \"*+*\" para concatenar strings."
      ]
    },
    {
      "cell_type": "code",
      "metadata": {
        "id": "JbBIjFaAv8uh",
        "colab": {
          "base_uri": "https://localhost:8080/"
        },
        "outputId": "91a2424f-dd16-4bef-f23c-7f638d8979a9"
      },
      "source": [
        "nome = \"Rafael\"\n",
        "sobrenome =  \"Santos\"\n",
        "\n",
        "nome_completo = nome + ' ' + sobrenome\n",
        "\n",
        "print(nome_completo)"
      ],
      "execution_count": null,
      "outputs": [
        {
          "output_type": "stream",
          "name": "stdout",
          "text": [
            "Rafael Santos\n"
          ]
        }
      ]
    },
    {
      "cell_type": "markdown",
      "metadata": {
        "id": "xtqKCa4JvUk4"
      },
      "source": [
        "### **Métodos** ###\n",
        "\n",
        "Um método nada mais é do que uma função embutida. Nesse caso o método tem o objetivo de modificar a string."
      ]
    },
    {
      "cell_type": "markdown",
      "metadata": {
        "id": "XOxC2niPVTT7"
      },
      "source": [
        " **Mudando para letras maiúsculas e minúsculas em uma string usando métodos** \n",
        "\n",
        "> ***.title()*** exibe cada palavra com uma letra maiúscula no início;\n",
        "\n",
        "> ***.upper()*** exibe todas as palavras com letra maiúscula;\n",
        "\n",
        "> ***.lower()*** exibe todas as palavras com letra minúscula.\n",
        "\n",
        "```py\n",
        "string.title()\n",
        "string.upper()\n",
        "string.lower()\n",
        "```"
      ]
    },
    {
      "cell_type": "code",
      "metadata": {
        "id": "BYYqKj4uU04J",
        "colab": {
          "base_uri": "https://localhost:8080/"
        },
        "outputId": "066334e4-df63-4f32-95cd-18cf3c8a3cb6"
      },
      "source": [
        "string = \"TâMaRa RutH\"\n",
        "print(\"str:\", string)\n",
        "\n",
        "# Utilização do método title().\n",
        "print(\"str.title():\", string.title())\n",
        "\n",
        "# Utilização do método upper().\n",
        "print(\"str.upper():\", string.upper())\n",
        "\n",
        "# Utilização do método lower().\n",
        "print(\"str.lower():\", string.lower())"
      ],
      "execution_count": null,
      "outputs": [
        {
          "output_type": "stream",
          "name": "stdout",
          "text": [
            "str: TâMaRa RutH\n",
            "str.title(): Tâmara Ruth\n",
            "str.upper(): TÂMARA RUTH\n",
            "str.lower(): tâmara ruth\n"
          ]
        }
      ]
    },
    {
      "cell_type": "markdown",
      "metadata": {
        "id": "TwKZXxKm5j4c"
      },
      "source": [
        "\n",
        "**Tratamento de espaços em branco**\n",
        "\n",
        "> Para garantir que não haja espaços em branco do lado direito de uma string, utilize o método ***.rstrip()***.\n",
        "\n",
        "> Para garantir que não haja espaços em branco do lado esquerdo de uma string usando o método ***.lstrip()***. \n",
        "\n",
        "> Para garantir que não haja espaços em branco dos dois lados ao mesmo tempo com ***.strip()***.\n",
        "\n",
        "```py\n",
        "string.rstrip()\n",
        "string.lstrip()\n",
        "string.strip()\n",
        "```\n",
        "\n",
        " Existem diversos outros métodos a serem explorados: https://www.w3schools.com/python/python_strings_methods.asp"
      ]
    },
    {
      "cell_type": "code",
      "metadata": {
        "id": "FqR5tUqzwV2s",
        "colab": {
          "base_uri": "https://localhost:8080/"
        },
        "outputId": "ca695951-3855-4f10-afbd-bab4978b1a21"
      },
      "source": [
        "ling_favorita = '   Python   '\n",
        "print(\"ling_favorita: \" + ling_favorita + \".\")\n",
        "\n",
        "# Utilização do método rstrip().\n",
        "print(\"ling_favorita.rstrip(): \" + ling_favorita.rstrip() + \".\")\n",
        "\n",
        "# Utilização do método lstrip().\n",
        "print(\"ling_favorita.lstrip(): \" + ling_favorita.lstrip() + \".\")\n",
        "\n",
        "# Utilização do método strip().\n",
        "print(\"ling_favorita.strip(): \" + ling_favorita.strip() + \".\")"
      ],
      "execution_count": null,
      "outputs": [
        {
          "output_type": "stream",
          "name": "stdout",
          "text": [
            "ling_favorita:    Python   .\n",
            "ling_favorita.rstrip():    Python.\n",
            "ling_favorita.lstrip(): Python   .\n",
            "ling_favorita.strip(): Python.\n"
          ]
        }
      ]
    },
    {
      "cell_type": "markdown",
      "metadata": {
        "id": "fxwDmSDMON-Z"
      },
      "source": [
        "> Normalmente, a utilização dos métodos não altera a variável permanentemente, portanto é necessário alterar o valor original dela para que a variável tenha seu valor substituído."
      ]
    },
    {
      "cell_type": "code",
      "metadata": {
        "id": "Pc_jldrLNjqY",
        "colab": {
          "base_uri": "https://localhost:8080/"
        },
        "outputId": "b85e9d1e-e1b6-4a7d-81e4-17d7acf92db2"
      },
      "source": [
        "ling_favorita = '      Python'\n",
        "print(ling_favorita)\n",
        "\n",
        "# A variável não é alterada, pois a função lstrip() retorna um valor e não atribui esse valor à variável.\n",
        "ling_favorita.lstrip()\n",
        "print(ling_favorita)\n",
        "\n",
        "# A variável é alterada, pois atribuimos o retorno da função lstrip() à nossa variável \"ling_favorita\".\n",
        "ling_favorita = ling_favorita.lstrip()\n",
        "print(ling_favorita)"
      ],
      "execution_count": null,
      "outputs": [
        {
          "output_type": "stream",
          "name": "stdout",
          "text": [
            "      Python\n",
            "      Python\n",
            "Python\n"
          ]
        }
      ]
    },
    {
      "cell_type": "markdown",
      "metadata": {
        "id": "3e2Lufbt6ncV"
      },
      "source": [
        "**Evitando erros de tipo utilizando a função print()**\n",
        "\n",
        "Com frequência, você vai querer usar o valor de uma variável numérica em uma mensagem. Entretanto, podem ocorrer erros relacionados a função *print()* por conta da tipagem das variáveis. "
      ]
    },
    {
      "cell_type": "code",
      "metadata": {
        "id": "afsAbqPA6v0o",
        "colab": {
          "base_uri": "https://localhost:8080/",
          "height": 180
        },
        "outputId": "e849c0a2-2c1f-4cff-b73a-050abe736a38"
      },
      "source": [
        "idade = 20\n",
        "print('eu tenho '+ idade + ' anos!')"
      ],
      "execution_count": null,
      "outputs": [
        {
          "output_type": "error",
          "ename": "TypeError",
          "evalue": "ignored",
          "traceback": [
            "\u001b[0;31m---------------------------------------------------------------------------\u001b[0m",
            "\u001b[0;31mTypeError\u001b[0m                                 Traceback (most recent call last)",
            "\u001b[0;32m<ipython-input-75-1c08ee367bb2>\u001b[0m in \u001b[0;36m<module>\u001b[0;34m()\u001b[0m\n\u001b[1;32m      1\u001b[0m \u001b[0midade\u001b[0m \u001b[0;34m=\u001b[0m \u001b[0;36m20\u001b[0m\u001b[0;34m\u001b[0m\u001b[0;34m\u001b[0m\u001b[0m\n\u001b[0;32m----> 2\u001b[0;31m \u001b[0mprint\u001b[0m\u001b[0;34m(\u001b[0m\u001b[0;34m'eu tenho '\u001b[0m\u001b[0;34m+\u001b[0m \u001b[0midade\u001b[0m \u001b[0;34m+\u001b[0m \u001b[0;34m' anos!'\u001b[0m\u001b[0;34m)\u001b[0m\u001b[0;34m\u001b[0m\u001b[0;34m\u001b[0m\u001b[0m\n\u001b[0m",
            "\u001b[0;31mTypeError\u001b[0m: can only concatenate str (not \"int\") to str"
          ]
        }
      ]
    },
    {
      "cell_type": "markdown",
      "metadata": {
        "id": "CArk2iMA6yAv"
      },
      "source": [
        "> Não é possível concatenar um número inteiro com uma string. Para solucionar este problema podemos converter a variável inteira idade em uma string utilizando a função *str()*.\n",
        "\n",
        "```\n",
        "str(variável)\n",
        "```"
      ]
    },
    {
      "cell_type": "code",
      "metadata": {
        "id": "lmpSnzjk6z90",
        "colab": {
          "base_uri": "https://localhost:8080/"
        },
        "outputId": "b22febff-e8f6-45de-9d75-22f7acc02f74"
      },
      "source": [
        "idade = 20\n",
        "print('eu tenho ' + str(idade) + ' anos!')"
      ],
      "execution_count": null,
      "outputs": [
        {
          "output_type": "stream",
          "name": "stdout",
          "text": [
            "eu tenho 20 anos!\n"
          ]
        }
      ]
    },
    {
      "cell_type": "markdown",
      "metadata": {
        "id": "MhNUwkfc63gA"
      },
      "source": [
        "> Também podemos utilizar a string formatada literalmente na função *print()*. Estas strings podem conter campos de substituição, que são expressões delimitadas por chaves *{}*."
      ]
    },
    {
      "cell_type": "code",
      "metadata": {
        "id": "d2YjavBz64T4",
        "colab": {
          "base_uri": "https://localhost:8080/"
        },
        "outputId": "bee9174a-34f8-4cbe-ce6b-a57606c8c9d8"
      },
      "source": [
        "idade = 20\n",
        "print(f'eu tenho {idade} anos!')"
      ],
      "execution_count": null,
      "outputs": [
        {
          "output_type": "stream",
          "name": "stdout",
          "text": [
            "eu tenho 20 anos!\n"
          ]
        }
      ]
    },
    {
      "cell_type": "markdown",
      "metadata": {
        "id": "tn2eXxznQjXu"
      },
      "source": [
        "## **Inteiros e Pontos Flutuantes** ##\n",
        "\n",
        "Python trata números de várias maneiras diferentes, de acordo com o modo como são usados. \n",
        "\n",
        "> **INTEIRO**: Python chama de número inteiro qualquer número sem um ponto decimal.\n",
        "\n",
        "> **FLOAT**: Python chama de número de ponto flutuante (*float*) qualquer número com um ponto decimal.\n"
      ]
    },
    {
      "cell_type": "code",
      "metadata": {
        "id": "LqbOVMDJQv-x",
        "colab": {
          "base_uri": "https://localhost:8080/"
        },
        "outputId": "795cabe2-da5f-49c4-b146-aa0ffc7e1e43"
      },
      "source": [
        "var_int = 2\n",
        "var_float = 2.\n",
        "\n",
        "print(\"var_int type =\", type(var_int))\n",
        "print(\"var_float type =\", type(var_float))"
      ],
      "execution_count": null,
      "outputs": [
        {
          "output_type": "stream",
          "name": "stdout",
          "text": [
            "var_int type = <class 'int'>\n",
            "var_float type = <class 'float'>\n"
          ]
        }
      ]
    },
    {
      "cell_type": "markdown",
      "metadata": {
        "id": "YbNRRieRRlBu"
      },
      "source": [
        "**Operadores**\n",
        "\n",
        "| **Operador** |   **Descrição**  |\n",
        "|:------------:|:----------------:|\n",
        "|       +      |       SOMA       |\n",
        "|       -      |     SUBTRAÇÃO    |\n",
        "|       *      |   MULTIPLICAÇÃO  |\n",
        "|       /      |      DIVISÃO     |\n",
        "|      **      |    POTENCIAÇÃO   |\n",
        "|      //      |  DIVISÃO INTEIRA |\n",
        "|       %      | RESTO DA DIVISÃO |"
      ]
    },
    {
      "cell_type": "markdown",
      "metadata": {
        "id": "dskuwHLBU1vv"
      },
      "source": [
        "> Abaixo a simbologia utilizada para realizar operações matemáticas. Também é possível a formulação de equações com Python. (Recomendado estudar a biblioteca Numpy)"
      ]
    },
    {
      "cell_type": "code",
      "metadata": {
        "id": "G5AUF3x2RV3S",
        "colab": {
          "base_uri": "https://localhost:8080/"
        },
        "outputId": "5fb9b877-bb46-424b-dbed-37c0b9221109"
      },
      "source": [
        "print(\"Exemplo Soma:\")\n",
        "print(\"2 + 2 =\", 2+2)\n",
        "print(\"\\nExemplo Subtração:\")\n",
        "print(\"2 - 2 =\", 2-2)\n",
        "print(\"\\nExemplo Multiplicação:\")\n",
        "print(\"2 * 3 =\", 2+2)\n",
        "print(\"\\nExemplo Divisão:\")\n",
        "print(\"2 / 2 =\", 2/2)\n",
        "print(\"\\nExemplo Potenciação:\")\n",
        "print(\"2 ** 3 =\", 2**3)\n",
        "print(\"\\nExemplo Divisão Inteira: Retorna somente o a parte inteira da divisão\")\n",
        "print(\"7.5 // 2 =\", 7.5//2)\n",
        "print(\"\\nExemplo Resto de: Retorna o resto da divisão\")\n",
        "print(\"5 % 2 =\", 5%2)"
      ],
      "execution_count": null,
      "outputs": [
        {
          "output_type": "stream",
          "name": "stdout",
          "text": [
            "Exemplo Soma:\n",
            "2 + 2 = 4\n",
            "\n",
            "Exemplo Subtração:\n",
            "2 - 2 = 0\n",
            "\n",
            "Exemplo Multiplicação:\n",
            "2 * 3 = 4\n",
            "\n",
            "Exemplo Divisão:\n",
            "2 / 2 = 1.0\n",
            "\n",
            "Exemplo Potenciação:\n",
            "2 ** 3 = 8\n",
            "\n",
            "Exemplo Divisão Inteira: Retorna somente o a parte inteira da divisão\n",
            "7.5 // 2 = 3.0\n",
            "\n",
            "Exemplo Resto de: Retorna o resto da divisão\n",
            "5 % 2 = 1\n"
          ]
        }
      ]
    },
    {
      "cell_type": "markdown",
      "metadata": {
        "id": "rBSTeeHhQrwt"
      },
      "source": [
        "## **Entradas e a função *input()*:** \n",
        "\n",
        "A função *input()* faz uma pausa em seu programa e espera o usuário fornecer um texto. Depois que Python recebe a entrada do usuário, esse dado é armazenado em uma variável para que você possa trabalhar com ele de forma conveniente.\n",
        "\n",
        "\n",
        "\n",
        "```\n",
        "# A função input() tem como argumento um texto\n",
        "input(str)\n",
        "```\n",
        "\n"
      ]
    },
    {
      "cell_type": "code",
      "metadata": {
        "id": "DcaM2OrqnSAK",
        "colab": {
          "base_uri": "https://localhost:8080/"
        },
        "outputId": "6080c3da-4d6f-49a6-eb0f-cac5c4dc92d9"
      },
      "source": [
        "nome = input('Digite seu nome: ')\n",
        "print('Olá, ' + nome + '.')"
      ],
      "execution_count": null,
      "outputs": [
        {
          "output_type": "stream",
          "name": "stdout",
          "text": [
            "Digite seu nome: Biancca\n",
            "Olá, Biancca.\n"
          ]
        }
      ]
    },
    {
      "cell_type": "markdown",
      "metadata": {
        "id": "wLvV_LfMoEc1"
      },
      "source": [
        "**Utilizando a função *input()* para coletar variáveis númericas**\n",
        "\n",
        "Ao usarmos a função *input()*, Python interpretará tudo que o usuário fornecer como uma string. Portanto, ao realizarmos operações nesse suposto valor numérico geramos um erro de tipo. Podemos utilizar a função *int()* ou *float()* para transformar a nossa string em uma variável numérica.\n",
        "\n",
        "```\n",
        "int(varíavel)\n",
        "float(varíavel)\n",
        "```\n",
        "\n"
      ]
    },
    {
      "cell_type": "code",
      "metadata": {
        "colab": {
          "base_uri": "https://localhost:8080/"
        },
        "id": "N3okLq5WnszL",
        "outputId": "e251a03b-537e-4ee7-caff-9e796aa0dea4"
      },
      "source": [
        "# Requisitando um valor de entrada ao usuário, transformando a string enviada em valor inteiro e exibindo o seu tipo.\n",
        "idade = int(input('Digite sua idade: '))\n",
        "print(type(idade))"
      ],
      "execution_count": null,
      "outputs": [
        {
          "output_type": "stream",
          "name": "stdout",
          "text": [
            "Digite sua idade: 39\n",
            "<class 'int'>\n"
          ]
        }
      ]
    },
    {
      "cell_type": "markdown",
      "metadata": {
        "id": "HFsbx6VlqTPn"
      },
      "source": [
        "# **Listas**"
      ]
    },
    {
      "cell_type": "markdown",
      "metadata": {
        "id": "m68XdWANPZMT"
      },
      "source": [
        "## **Introdução**\n",
        "\n",
        "O que é uma lista?\n",
        "\n",
        "> Uma lista é uma coleção de itens ordenados e mutáveis, que sofre atribuição por referência. Os itens integrantes de uma lista podem ser de todos os tipos possíveis e não precisam ter relação entre si. Além disso, a lista pode ser composta por itens de mesmo tipo ou de tipos diferentes.\n",
        "\n",
        "Observe que essa lista é composta por itens de tipos variados, desde números até dicionários (um outro tipo de estrutura de dados), havendo também a possibilidade de colocar uma lista dentro de outra."
      ]
    },
    {
      "cell_type": "code",
      "metadata": {
        "colab": {
          "base_uri": "https://localhost:8080/"
        },
        "id": "fx67pnsNqS-I",
        "outputId": "18d83960-7fd3-4afe-89e9-b2a33d1dbe72"
      },
      "source": [
        "lista = [9, 'Joãozinho', [1,2,3], {'key':10}]\n",
        "print(lista)"
      ],
      "execution_count": null,
      "outputs": [
        {
          "output_type": "stream",
          "name": "stdout",
          "text": [
            "[9, 'Joãozinho', [1, 2, 3], {'key': 10}]\n"
          ]
        }
      ]
    },
    {
      "cell_type": "markdown",
      "metadata": {
        "id": "OV6Cw4wVT4Uq"
      },
      "source": [
        "**Criando uma Lista**\n",
        "\n",
        "> Em Python, as Listas são demarcadas por colchetes *[ ]* e seus itens separados por vírgula. Assim, para criar uma lista basta atribuí-la a uma variável, como no exemplo abaixo:\n",
        "\n",
        "\n",
        "\n",
        "```\n",
        "# Declaração de uma lista\n",
        "lista = [elementos]\n",
        "# Declaração de uma lista especificando seu tipo\n",
        "lista = list((elementos)) \n",
        "```\n",
        "\n"
      ]
    },
    {
      "cell_type": "code",
      "metadata": {
        "id": "uh2J-0FmVjhD",
        "colab": {
          "base_uri": "https://localhost:8080/"
        },
        "outputId": "d16ee2e9-2579-4f8d-c218-b478bacf089b"
      },
      "source": [
        "# Declarando uma lista e exibindo o seu valor\n",
        "lista = [4,3,5,7,2,1]\n",
        "\n",
        "print('Lista =', lista)"
      ],
      "execution_count": null,
      "outputs": [
        {
          "output_type": "stream",
          "name": "stdout",
          "text": [
            "Lista = [4, 3, 5, 7, 2, 1]\n"
          ]
        }
      ]
    },
    {
      "cell_type": "markdown",
      "metadata": {
        "id": "GE4VlAOCV2AC"
      },
      "source": [
        "## **Manipulando uma lista**\n",
        "\n",
        "https://www.w3schools.com/python/python_lists_methods.asp\n",
        "\n",
        "**Acessando e modificando os itens:**\n",
        "\n",
        "> Cada item de uma lista possui um índice atribuído, esse índice, em Python, começa a partir de zero, para visualizar um item específico basta acessar da seguinte forma:\n",
        "\n",
        "```\n",
        "# Acessando a posição inicial da nossa lista\n",
        "lista[0]\n",
        "```\n",
        "> Ainda é possível modificar o valor contido naquele índice, trocando-o, por exemplo, por um item de outro tipo.\n",
        "\n",
        "```\n",
        "# Modificando a posição inicial de nossa lista\n",
        "lista[0] = \"Meu nome é João\"\n",
        "```\n"
      ]
    },
    {
      "cell_type": "code",
      "metadata": {
        "id": "n5wy42T2bgsz",
        "colab": {
          "base_uri": "https://localhost:8080/"
        },
        "outputId": "6d044a80-9c96-4545-bb66-74529613f4e1"
      },
      "source": [
        "lista = [4,3,5,7,2,1]\n",
        "\n",
        "# Exibindo a lista antes da modificação e o valor existente na posição que será modificada.\n",
        "print(\"Lista:\", lista)\n",
        "print(\"Elemento na posição 0:\", lista[0])\n",
        "\n",
        "# Modificando o valor da posição 0.\n",
        "lista[0]='6'\n",
        "\n",
        "# Exibindo a lista com os valores modificados\n",
        "print(\"\\nLista Atualizada:\", lista)\n",
        "print(\"Elemento atualizado da posição 0:\", lista[0])\n"
      ],
      "execution_count": null,
      "outputs": [
        {
          "output_type": "stream",
          "name": "stdout",
          "text": [
            "Lista: [4, 3, 5, 7, 2, 1]\n",
            "Elemento na posição 0: 4\n",
            "\n",
            "Lista Atualizada: ['6', 3, 5, 7, 2, 1]\n",
            "Elemento atualizado da posição 0: 6\n"
          ]
        }
      ]
    },
    {
      "cell_type": "markdown",
      "metadata": {
        "id": "7tuXAYoVckmX"
      },
      "source": [
        "**Adicionando Itens**\n",
        "\n",
        "> Listas são mutáveis e dinâmicas, portanto podemos adicionar itens dinamicamente a uma Lista utilizando o método *append()*:\n",
        "\n",
        "\n",
        "```\n",
        "# O argumento requer um elemento de qualquer tipo\n",
        "lista.append(elemento)\n",
        "```\n",
        "\n",
        "> Vale ressaltar que o método append é capaz de adicionar um elemento de qualquer tipo (string, dict, list, etc.)\n",
        "\n"
      ]
    },
    {
      "cell_type": "code",
      "metadata": {
        "id": "YC_lYQdNqP08",
        "colab": {
          "base_uri": "https://localhost:8080/"
        },
        "outputId": "1caecb12-4b84-4582-d59b-b6d37ebe48ab"
      },
      "source": [
        "lista = ['6', 3, 5, 7, 2, 1]\n",
        "\n",
        "# Adicionando o número 10 na nossa lista original\n",
        "lista.append(10)\n",
        "\n",
        "# Adicionando a lista ['A','B','C'] na nossa lista original\n",
        "lista.append(['A','B','C'])\n",
        "\n",
        "# Exibindo a lista original\n",
        "print('Lista Atualizada =', lista)"
      ],
      "execution_count": null,
      "outputs": [
        {
          "output_type": "stream",
          "name": "stdout",
          "text": [
            "Lista Atualizada = ['6', 3, 5, 7, 2, 1, 10, ['A', 'B', 'C']]\n"
          ]
        }
      ]
    },
    {
      "cell_type": "markdown",
      "metadata": {
        "id": "QXR6R8HMBMBx"
      },
      "source": [
        "**Removendo Itens**\n",
        "\n",
        "> Também é possível remover um item específico existente em uma lista, por meio do método *remove( )*\n",
        "\n",
        "```\n",
        "# O argumento requer um elemento de qualquer tipo\n",
        "lista.remove(elemento)\n",
        "```\n",
        "\n",
        "> O *remove()* irá remover a primeira ocorrência do elemento indicado. Caso o item não exista dentro da lista será retornado um erro.\n",
        "\n"
      ]
    },
    {
      "cell_type": "code",
      "metadata": {
        "id": "6brUzUCep4_v",
        "colab": {
          "base_uri": "https://localhost:8080/"
        },
        "outputId": "5f24b414-83d4-4d18-d03f-488804cc958b"
      },
      "source": [
        "lista = ['6', 3, 5, 7, 2, 1, 10, ['A', 'B', 'C']]\n",
        "\n",
        "# Removendo a string '6' da nossa lista\n",
        "lista.remove('6')\n",
        "print('Removendo 6 =', lista)\n",
        "\n",
        "# Removendo a lista ['A','B','C'] da nossa lista original\n",
        "lista.remove(['A','B','C']) \n",
        "print('\\nLista Atualizada =',lista)"
      ],
      "execution_count": null,
      "outputs": [
        {
          "output_type": "stream",
          "name": "stdout",
          "text": [
            "Removendo 6 = [3, 5, 7, 2, 1, 10, ['A', 'B', 'C']]\n",
            "\n",
            "Lista Atualizada = [3, 5, 7, 2, 1, 10]\n"
          ]
        }
      ]
    },
    {
      "cell_type": "markdown",
      "metadata": {
        "id": "LfOJ_dVQFDD-"
      },
      "source": [
        "### **Métodos Gerais**"
      ]
    },
    {
      "cell_type": "markdown",
      "metadata": {
        "id": "oam_jAl1FUTK"
      },
      "source": [
        "**Tamanho de uma lista**\n",
        "\n",
        "> É possível verificar o tamanho de uma lista utilizando o método global *len()*.\n",
        "\n",
        "\n",
        "```\n",
        "# O argumento requer um objeto, que deve ser uma sequência (Lista) ou coleção (Dicionário)\n",
        "len(objeto)\n",
        "```\n",
        "\n"
      ]
    },
    {
      "cell_type": "code",
      "metadata": {
        "id": "AJUHyVQTqdt_",
        "colab": {
          "base_uri": "https://localhost:8080/"
        },
        "outputId": "ffae8153-7a1d-4038-ac08-e53e84e1d4e7"
      },
      "source": [
        "lista = [3, 5, 7, 2, 1, 10, 20, 1, 3, '7']\n",
        "\n",
        "tamanho_lista = len(lista)\n",
        "print('Tamanho da lista =', tamanho_lista)"
      ],
      "execution_count": null,
      "outputs": [
        {
          "output_type": "stream",
          "name": "stdout",
          "text": [
            "Tamanho da lista = 10\n"
          ]
        }
      ]
    },
    {
      "cell_type": "markdown",
      "metadata": {
        "id": "NVSjANMEF1_K"
      },
      "source": [
        "**Contando a quantidade de Itens**\n",
        "\n",
        "> O método count possibilita contar a quantidade de itens iguais ao especificado dentro de uma lista.\n",
        "\n",
        "\n",
        "```\n",
        "# O argumento requer um elemento de qualquer tipo\n",
        "lista.count(elemento)\n",
        "```\n",
        "\n"
      ]
    },
    {
      "cell_type": "code",
      "metadata": {
        "id": "eQg-Dw89qtyY",
        "colab": {
          "base_uri": "https://localhost:8080/"
        },
        "outputId": "0f8a3098-cfac-4bdd-b130-509fa78cb222"
      },
      "source": [
        "lista = [3, 5, 7, 2, 1, 10, 10, 10, 10]\n",
        "\n",
        "# Contando a quantidade de elementos inteiros com valor 10 existem na nossa lista\n",
        "qntd_10 = lista.count(10)\n",
        "print(f'Existe {qntd_10} inteiro com valor igual a 10.')"
      ],
      "execution_count": null,
      "outputs": [
        {
          "output_type": "stream",
          "name": "stdout",
          "text": [
            "Existe 4 inteiro com valor igual a 10.\n"
          ]
        }
      ]
    },
    {
      "cell_type": "markdown",
      "metadata": {
        "id": "PhkXtr6UHgBt"
      },
      "source": [
        "**Ordenando uma Lista**\n",
        "\n",
        "> Caso queira ordenar uma lista é possível utilizar o método *sort( )*, que é capaz de fazer a ordenação numérica e alfabética da lista. Atenção, o método *sort()* atualizará a sua varíavel, num fenômeno que chamamos de **inplace**.\n",
        "\n",
        "```\n",
        "# A lista possui dois argumentos, o reverse, que setado como True retornará a lista em ordem decrescente e False que ordenará a lista em ordem crescente.\n",
        "#Além do key para especificar uma função com diferentes critérios para ordenação.\n",
        "\n",
        "lista.sort(reverse=True|False, key=myFunc)\n",
        "sorted(sequência, reverse=True|False)\n",
        "```\n",
        "\n",
        "\n",
        "\n"
      ]
    },
    {
      "cell_type": "code",
      "metadata": {
        "id": "ogsfJQPBrE72",
        "colab": {
          "base_uri": "https://localhost:8080/"
        },
        "outputId": "df2f4fe8-16a0-4f22-a491-842e7a976f2f"
      },
      "source": [
        "lista = [3, 5, 7, 2, 1, 10]\n",
        "\n",
        "# Exibindo a lista antes da ordenação\n",
        "print('Lista antes da ordenação =', lista)\n",
        "\n",
        "# Ordenando a lista em ordem decrescente e exibindo-a\n",
        "lista.sort(reverse=True)\n",
        "print('\\nLista decrescente =', lista)\n",
        "\n",
        "# Ordenando a lista em ordem crescente e exibindo-a\n",
        "lista.sort(reverse=False)\n",
        "print('\\nLista crescente =', lista)"
      ],
      "execution_count": null,
      "outputs": [
        {
          "output_type": "stream",
          "name": "stdout",
          "text": [
            "Lista antes da ordenação = [3, 5, 7, 2, 1, 10]\n",
            "\n",
            "Lista decrescente = [10, 7, 5, 3, 2, 1]\n",
            "\n",
            "Lista crescente = [1, 2, 3, 5, 7, 10]\n"
          ]
        }
      ]
    },
    {
      "cell_type": "code",
      "metadata": {
        "id": "m8wdKvN3r_VF",
        "colab": {
          "base_uri": "https://localhost:8080/"
        },
        "outputId": "8ed362fc-d5bc-4e01-aad8-ba3de1d988d0"
      },
      "source": [
        "lista = [3, 5, 7, 2, 1, 10]\n",
        "\n",
        "# Caso queira inverter as posições de uma lista, utiliza-se o .reverse()\n",
        "lista.reverse()\n",
        "print(lista)"
      ],
      "execution_count": null,
      "outputs": [
        {
          "output_type": "stream",
          "name": "stdout",
          "text": [
            "[10, 1, 2, 7, 5, 3]\n"
          ]
        }
      ]
    },
    {
      "cell_type": "markdown",
      "metadata": {
        "id": "KvGWRirs2YSi"
      },
      "source": [
        "Muitas vezes não iremos querer que nossa ordenação altere diretamente nossa variável. A função ***sorted()*** apenas retorna o valor resultante da ordenação, não alterando a nossa variável original.\n",
        "\n",
        "Obs: Essas funções também funcionam com listas compostas de strings, porém não é possível ordenar listas com tipos diferentes em seus elementos."
      ]
    },
    {
      "cell_type": "code",
      "metadata": {
        "id": "hbUuZ6kmrPPd",
        "colab": {
          "base_uri": "https://localhost:8080/"
        },
        "outputId": "fdd7fa8e-abf7-402d-c329-5318fc080e2c"
      },
      "source": [
        "lista = [3, 5, 7, 2, 1, 10]\n",
        "\n",
        "print(sorted(lista, reverse=False))\n",
        "print(lista)"
      ],
      "execution_count": null,
      "outputs": [
        {
          "output_type": "stream",
          "name": "stdout",
          "text": [
            "[1, 2, 3, 5, 7, 10]\n",
            "[3, 5, 7, 2, 1, 10]\n"
          ]
        }
      ]
    },
    {
      "cell_type": "markdown",
      "metadata": {
        "id": "Upa8Uus92_e-"
      },
      "source": [
        "Podemos verificar a presença de um valor utilizando o operador ***in***, que nos retornará um valor verdadeiro ou falso, da seguinte forma:\n",
        "\n",
        "\n",
        "\n",
        "```\n",
        "# Checando a existência de um determinado elemento em nossa lista\n",
        "elemento in lista\n",
        "```\n",
        "\n"
      ]
    },
    {
      "cell_type": "code",
      "metadata": {
        "id": "GgIh7OzvsP9s",
        "colab": {
          "base_uri": "https://localhost:8080/"
        },
        "outputId": "8f8d3bbd-702e-4bad-b3d1-4accacccd939"
      },
      "source": [
        "lista = ['6', 5, 7, 2, 1, 10, '500']\n",
        "\n",
        "# Verificando a existência da string 6 em nossa lista\n",
        "'500' in lista"
      ],
      "execution_count": null,
      "outputs": [
        {
          "output_type": "execute_result",
          "data": {
            "text/plain": [
              "True"
            ]
          },
          "metadata": {},
          "execution_count": 97
        }
      ]
    },
    {
      "cell_type": "markdown",
      "metadata": {
        "id": "jogMR4hf4F6-"
      },
      "source": [
        "Podemos também **somar os valores** da nossa lista e procurar pelos **valores máximos e minimos** dela."
      ]
    },
    {
      "cell_type": "code",
      "metadata": {
        "id": "fd5gRX0-sSDj",
        "colab": {
          "base_uri": "https://localhost:8080/"
        },
        "outputId": "55106742-b55b-4f53-99c6-91c537c73715"
      },
      "source": [
        "lista = [3.3, 5, 7, 2, 1, 10]\n",
        "\n",
        "print('Nossa lista:', lista)\n",
        "print('Soma:', sum(lista))"
      ],
      "execution_count": null,
      "outputs": [
        {
          "output_type": "stream",
          "name": "stdout",
          "text": [
            "Nossa lista: [3.3, 5, 7, 2, 1, 10]\n",
            "Soma: 28.3\n"
          ]
        }
      ]
    },
    {
      "cell_type": "code",
      "metadata": {
        "id": "vcvsscq8sd-6",
        "colab": {
          "base_uri": "https://localhost:8080/"
        },
        "outputId": "da1a4e04-6ae1-43e1-a469-da5ae57cddaf"
      },
      "source": [
        "lista = [3, 5, 7, 2, 1, 10]\n",
        "\n",
        "print('Nossa lista:', lista)\n",
        "print('Valor Max:', max(lista))\n"
      ],
      "execution_count": null,
      "outputs": [
        {
          "output_type": "stream",
          "name": "stdout",
          "text": [
            "Nossa lista: [3, 5, 7, 2, 1, 10]\n",
            "Valor Max: 10\n"
          ]
        }
      ]
    },
    {
      "cell_type": "code",
      "metadata": {
        "id": "KG4lHpr3skmr",
        "colab": {
          "base_uri": "https://localhost:8080/"
        },
        "outputId": "dc8ed8c6-9a0e-42ae-f222-99a3112972a9"
      },
      "source": [
        "lista = [3, 5, 7, 2, 1, 10]\n",
        "\n",
        "print('Nossa lista:', lista)\n",
        "print('Valor Min:', min(lista))"
      ],
      "execution_count": null,
      "outputs": [
        {
          "output_type": "stream",
          "name": "stdout",
          "text": [
            "Nossa lista: [3, 5, 7, 2, 1, 10]\n",
            "Valor Min: 1\n"
          ]
        }
      ]
    },
    {
      "cell_type": "markdown",
      "metadata": {
        "id": "Tg_I2CBX4zNi"
      },
      "source": [
        "Existem alguns outros métodos para listas, vocês podem procurá-los no site https://www.w3schools.com/python/python_lists_methods.asp, ou na documentação do Python."
      ]
    },
    {
      "cell_type": "markdown",
      "metadata": {
        "id": "GzFCS3J75Qet"
      },
      "source": [
        "## **Trabalhando com as listas** "
      ]
    },
    {
      "cell_type": "markdown",
      "metadata": {
        "id": "HXHzFNmJ5iYa"
      },
      "source": [
        "**Percorrendo uma lista**\n",
        "\n",
        "> O **for** é uma estrutura de repetição que irá percorrer toda lista, a variável x assume o valor de cada item da lista temporariamente, no que chamamos de iteração. Posteriormente detalharemos mais os usos do **for**.\n",
        "\n",
        "\n",
        "\n",
        "```\n",
        "# Sintaxe básica de um laço for:\n",
        "for iterador in lista:\n",
        "  print(iterador)\n",
        "```\n",
        "\n"
      ]
    },
    {
      "cell_type": "code",
      "metadata": {
        "colab": {
          "base_uri": "https://localhost:8080/"
        },
        "id": "Ozv5732tt0yb",
        "outputId": "6cef45b5-54bc-4bd8-c759-cfcad2d7e1f2"
      },
      "source": [
        "# Declaração de uma lista\n",
        "animais = ['Peixe', 'Gato', 'Rato', 'Cachorro', 'Pombo']\n",
        "\n",
        "# Percorrendo a lista com o laço for\n",
        "for x in animais:\n",
        "  print(x)"
      ],
      "execution_count": null,
      "outputs": [
        {
          "output_type": "stream",
          "name": "stdout",
          "text": [
            "Peixe\n",
            "Gato\n",
            "Rato\n",
            "Cachorro\n",
            "Pombo\n"
          ]
        }
      ]
    },
    {
      "cell_type": "markdown",
      "metadata": {
        "id": "j0kl9OQp6QdL"
      },
      "source": [
        "**Slicing: Trabalhando com partes de uma lista**\n",
        "\n",
        "> É possível utilizar partes específicas de seu código, realizando o que chamamos de slicing. Seu uso baseia-se em indicar o índice de início e final entre colchetes, sendo separados pelo sinal de dois pontos ***[:]***.\n",
        "\n",
        "```\n",
        "lista[posição inicial:posição final]\n",
        "```\n",
        "\n"
      ]
    },
    {
      "cell_type": "code",
      "metadata": {
        "id": "grw3yWFH8Ogr"
      },
      "source": [
        "# Declaração de uma lista\n",
        "animais = ['Peixe', 'Gato', 'Rato', 'Cachorro', 'Pombo']"
      ],
      "execution_count": null,
      "outputs": []
    },
    {
      "cell_type": "code",
      "metadata": {
        "id": "Z7xEVN4GuSKq",
        "colab": {
          "base_uri": "https://localhost:8080/"
        },
        "outputId": "c065045e-cccb-47c9-bb91-c7059a244a8a"
      },
      "source": [
        "# Selecionando os elementos da posição 0 à posição 2 (Intervalo aberto)\n",
        "print('Lista Original:', animais)\n",
        "print(animais[0:2])"
      ],
      "execution_count": null,
      "outputs": [
        {
          "output_type": "stream",
          "name": "stdout",
          "text": [
            "Lista Original: ['Peixe', 'Gato', 'Rato', 'Cachorro', 'Pombo']\n",
            "['Peixe', 'Gato']\n"
          ]
        }
      ]
    },
    {
      "cell_type": "code",
      "metadata": {
        "id": "9HeiK3vVuWjg",
        "colab": {
          "base_uri": "https://localhost:8080/"
        },
        "outputId": "c6894a9a-a169-4e32-c044-a8cce4255e8a"
      },
      "source": [
        "# Caso não seja especificado o índice final, a separação será realizada até o fim da lista:\n",
        "print('Lista Original:', animais)\n",
        "print(animais[3:])"
      ],
      "execution_count": null,
      "outputs": [
        {
          "output_type": "stream",
          "name": "stdout",
          "text": [
            "Lista Original: ['Peixe', 'Gato', 'Rato', 'Cachorro', 'Pombo']\n",
            "['Cachorro', 'Pombo']\n"
          ]
        }
      ]
    },
    {
      "cell_type": "code",
      "metadata": {
        "id": "UYnc2pzeuklv",
        "colab": {
          "base_uri": "https://localhost:8080/"
        },
        "outputId": "fc5aa0ef-96a9-42d8-98bd-f66a18a2b3ae"
      },
      "source": [
        "# O mesmo vale para a situação onde não é especificado o índice inicial, apenas o final.\n",
        "print('Lista Original:', animais)\n",
        "print(animais[:3])"
      ],
      "execution_count": null,
      "outputs": [
        {
          "output_type": "stream",
          "name": "stdout",
          "text": [
            "Lista Original: ['Peixe', 'Gato', 'Rato', 'Cachorro', 'Pombo']\n",
            "['Peixe', 'Gato', 'Rato']\n"
          ]
        }
      ]
    },
    {
      "cell_type": "code",
      "metadata": {
        "id": "wdyo4ebNurWo",
        "colab": {
          "base_uri": "https://localhost:8080/"
        },
        "outputId": "56b5a377-5985-466e-eeb6-d8865053fc41"
      },
      "source": [
        "# Também é possível realizar um Slicing “pulando” itens da lista\n",
        "print('Lista Original:', animais)\n",
        "print(animais[0:3:2])"
      ],
      "execution_count": null,
      "outputs": [
        {
          "output_type": "stream",
          "name": "stdout",
          "text": [
            "Lista Original: ['Peixe', 'Gato', 'Rato', 'Cachorro', 'Pombo']\n",
            "['Peixe', 'Rato']\n"
          ]
        }
      ]
    },
    {
      "cell_type": "code",
      "metadata": {
        "id": "Olqs1SeDu1cX",
        "colab": {
          "base_uri": "https://localhost:8080/"
        },
        "outputId": "5f8fc6b5-53e3-4b47-e863-2b23eee4bf11"
      },
      "source": [
        "# Ainda é possível inverter uma lista utilizando o método de Slicing:\n",
        "print('Lista Original:', animais)\n",
        "print(animais[::-1])\n",
        "\n",
        "# O -1 faz com que a lista seja retornada ao contrário, também é possível fazer o mesmo procedimento com intervalos maiores (-2,-3,-4, etc).\n",
        "print(animais[::-2])\n"
      ],
      "execution_count": null,
      "outputs": [
        {
          "output_type": "stream",
          "name": "stdout",
          "text": [
            "Lista Original: ['Peixe', 'Gato', 'Rato', 'Cachorro', 'Pombo']\n",
            "['Pombo', 'Cachorro', 'Rato', 'Gato', 'Peixe']\n",
            "['Pombo', 'Rato', 'Peixe']\n"
          ]
        }
      ]
    },
    {
      "cell_type": "markdown",
      "metadata": {
        "id": "Qp8OgKnUHr_s"
      },
      "source": [
        "# **Condicionais**"
      ]
    },
    {
      "cell_type": "markdown",
      "metadata": {
        "id": "t3zNeAs-JpD_"
      },
      "source": [
        "## **Operadores** ##\n",
        "\n",
        "Em Python, existe uma grande variedade de operadores que costumam ser utilizados frequentemente em condicionais, estruturas de repetição, funções, etc. Buscando facilitar o desenvolvimento de programas. Podem ser divididos, basicamente, em quatro grupos: Relacionais, Atribuição, Aritméticos e Lógicos, que retornam sempre um valor booleano (True ou False).\n",
        "\n"
      ]
    },
    {
      "cell_type": "markdown",
      "metadata": {
        "id": "gxhIeZnIHq8-"
      },
      "source": [
        "**Relacionais**\n",
        "\n",
        "> ***Maior que ( > )***: Verifica se um valor é maior que outro.\n",
        "```\n",
        "print(4 > 3)  # Saída: True\n",
        "```\n",
        ">***Menor que ( < )***: Verifica se um valor é menor que outro.\n",
        "```\n",
        "print(4 < 3)  # Saída: False\n",
        "```\n",
        "> ***Maior igual ( >= )***: Verifica se um valor é maior ou igual ao outro.\n",
        "```\n",
        "print(4 >= 3)  # Saída: True\n",
        "```\n",
        "\n",
        "> ***Menor igual ( <= )***: Verifica se um valor é menor ou igual ao outro.\n",
        "```\n",
        "print(4 <= 4)  # Saída: True\n",
        "```\n",
        "\n",
        "> ***Igualdade (==)***: Verifica se um valor é igual ao outro.\n",
        "```\n",
        "print(4 == 4)  # Saída: True\n",
        "```\n",
        "\n",
        "> ***Diferença (!=)***: Verifica se um valor é diferente de outro, caso verdade retorna True.\n",
        "```\n",
        "print(4 != 5)  # Saída: True\n",
        "```\n"
      ]
    },
    {
      "cell_type": "code",
      "metadata": {
        "colab": {
          "background_save": true
        },
        "id": "23bat3jfvCUP",
        "outputId": "aa910e33-ca22-421b-97bc-d9caa7cb507d"
      },
      "source": [
        "print('4 > 3 é', 4 > 3 )\n",
        "print('\\n4 < 3 é', 4 < 3 )\n",
        "print('\\n4 >= 3 é', 4 >= 3 )\n",
        "print('\\n4 <= 4 é', 4 <= 4 )\n",
        "print('\\n4 == 4 é', 4 == 4 )\n",
        "print('\\n4 != 5 é', 4 != 5 )"
      ],
      "execution_count": null,
      "outputs": [
        {
          "name": "stdout",
          "output_type": "stream",
          "text": [
            "4 > 3 é True\n",
            "\n",
            "4 < 3 é False\n",
            "\n",
            "4 >= 3 é True\n",
            "\n",
            "4 <= 4 é True\n",
            "\n",
            "4 == 4 é True\n",
            "\n",
            "4 != 5 é True\n"
          ]
        }
      ]
    },
    {
      "cell_type": "markdown",
      "metadata": {
        "id": "aV1kTX9tMDfB"
      },
      "source": [
        "**Atribuição**\n",
        "\n",
        "> ***Atribuidor (=)***: Permite atribuir um valor de qualquer tipo a uma variável.\n",
        "```\n",
        "nome = \"Amanda\"\n",
        "print(nome) #Saída: Amanda\n",
        "```\n",
        "\n",
        ">***Atribuidor Aditivo (+=)***: Permite somar um valor e atribuir o resultado direto na variável.\n",
        "```\n",
        "num = 1\n",
        "num += 5\n",
        "print(num) # Saída: 6\n",
        "```\n",
        "\n",
        "> ***Atribuidor Subtrativo (-=)***: Permite subtrair um valor e atribuir o resultado direto na variável.\n",
        "```\n",
        "num = 1\n",
        "num -= 5\n",
        "print(num) # Saída: -4\n",
        "```\n",
        "\n",
        "> ***Atribuidor Multiplicador (*=)***: Permite multiplicar um valor e atribuir o resultado direto na variável.\n",
        "```\n",
        "num = 1\n",
        "num *= 5\n",
        "print(num) # Saída: 5\n",
        "```\n",
        "\n",
        "> ***Atribuidor Divisor (/=)***: Permite dividir um valor e atribuir o resultado direto na variável.\n",
        "num /= 5\n",
        "```\n",
        "num = 10\n",
        "num /= 3\n",
        "print(num) # Saída: 3.33333...\n",
        "```\n",
        "\n",
        "> ***Atribuidor Divisor Inteiro (//=)***: Permite realizar a divisão inteira pelo valor e atribuir o resultado direto na variável.\n",
        "```\n",
        "num = 10\n",
        "num //= 3\n",
        "print(num) # Saída: 3\n",
        "```\n",
        "\n",
        "> ***Atribuidor Modular (%=)***: Pega o resto da divisão pelo valor indicado e atribui na variável.\n",
        "```\n",
        "num = 10\n",
        "num %= 3\n",
        "print(num) # Saída: 1\n",
        "```\n",
        "\n",
        "> ***Atribuidor Exponencial ( **=)***: Permite elevar o valor presente na variável pelo indicado e atribui o resultado na variável.\n",
        "```\n",
        "num = 10\n",
        "num **= 3\n",
        "print(num) # Saída: 1000\n",
        "```\n"
      ]
    },
    {
      "cell_type": "code",
      "metadata": {
        "colab": {
          "background_save": true
        },
        "id": "HzkmZ9ylvlrl",
        "outputId": "a67c2945-44b6-4711-cf93-101508cc75d7"
      },
      "source": [
        "# Atribuidor aditivo\n",
        "num = 1\n",
        "num +=5\n",
        "print('1+=5 ->', num) \n",
        "\n",
        "# Atribuidor subtrativo\n",
        "num = 1\n",
        "num -=5\n",
        "print('\\n1-=5 ->', num) \n",
        "\n",
        "# Atribuidor multiplicador\n",
        "num = 1\n",
        "num *=5\n",
        "print('\\n1*=5 ->', num) \n",
        "\n",
        "# Atribuidor divisor\n",
        "num = 10\n",
        "num /= 3\n",
        "print('\\n10/=3 ->', round(num,4)) \n",
        "\n",
        "# Atribuidor divisor inteiro\n",
        "num = 10\n",
        "num //= 3\n",
        "print('\\n10//=3 ->', num)  \n",
        "\n",
        "# Atribuidor resto de\n",
        "num = 10\n",
        "num %= 3\n",
        "print('\\n10%=3 ->', num)  \n",
        "\n",
        "# Atribuidor exponencial\n",
        "num = 10\n",
        "num **= 3\n",
        "print('\\n10**=3 ->', num)  "
      ],
      "execution_count": null,
      "outputs": [
        {
          "name": "stdout",
          "output_type": "stream",
          "text": [
            "1+=5 -> 6\n",
            "\n",
            "1-=5 -> -4\n",
            "\n",
            "1*=5 -> 5\n",
            "\n",
            "10/=3 -> 3.3333\n",
            "\n",
            "10//=3 -> 3\n",
            "\n",
            "10%=3 -> 1\n",
            "\n",
            "10**=3 -> 1000\n"
          ]
        }
      ]
    },
    {
      "cell_type": "markdown",
      "metadata": {
        "id": "NI1w9NRJSWVF"
      },
      "source": [
        "**Lógicos**\n",
        "\n",
        "Os operadores Lógicos (***and*** e ***or***) são capazes de comparar valores booleanos (***True*** e **False**) ou expressões que retornam valores booleanos. Assim, os operadores lógicos podem ser utilizados em testes condicionais, estruturas de repetição, funções, etc.\n",
        "\n",
        "| **A** | **B** | **A or B** | **A and B** |\n",
        "|:-----:|:-----:|:----------:|:-----------:|\n",
        "|  True |  True |    True    |     True    |\n",
        "|  True | False |    True    |    False    |\n",
        "| False |  True |    True    |     False   |\n",
        "| False | False |    False   |    False    |"
      ]
    },
    {
      "cell_type": "code",
      "metadata": {
        "colab": {
          "background_save": true
        },
        "id": "fg_x-ZatwaJs",
        "outputId": "98508329-9abe-47e4-8714-03adf4199f8a"
      },
      "source": [
        "A = 4>2\n",
        "B = 0>1\n",
        "\n",
        "# Temos que A or B é verdadeiro e A and B é falso\n",
        "print('A or B =', 4>2 or 0>1)\n",
        "print('A and B =', 4>2 and 0>1)"
      ],
      "execution_count": null,
      "outputs": [
        {
          "name": "stdout",
          "output_type": "stream",
          "text": [
            "A or B = True\n",
            "A and B = False\n"
          ]
        }
      ]
    },
    {
      "cell_type": "markdown",
      "metadata": {
        "id": "SWZKe79yUmI8"
      },
      "source": [
        "## **Introdução** ##\n",
        "\n",
        "**O que são estruturas condicionais?** Uma estrutura condicional é utilizada quando deseja-se aplicar, uma condição ao seu código.\n",
        "No coração de cada instrução ***if*** está uma expressão que pode ser avaliada como **True** ou *False*, chamada de **teste condicional**. A partir dele será definido que ação será realizada.\n"
      ]
    },
    {
      "cell_type": "markdown",
      "metadata": {
        "id": "QGB1y9aWYO1j"
      },
      "source": [
        "## **Instruções IF**"
      ]
    },
    {
      "cell_type": "markdown",
      "metadata": {
        "id": "xpzndIoZWj1T"
      },
      "source": [
        "### **IF Simples**\n",
        "\n",
        "O tipo mais simples de instrução if tem um teste e uma ação: \n",
        "\n",
        "```\n",
        "if teste_condicional: \n",
        "  faça algo\n",
        "```\n",
        "\n",
        "Você pode colocar qualquer teste condicional na primeira linha, e praticamente qualquer ação no bloco indentado após o teste. Se o teste condicional for avaliado como True, Python executará o código após a instrução if . Se o teste for avaliado como False, Python ignora a ação da instrução if ."
      ]
    },
    {
      "cell_type": "code",
      "metadata": {
        "id": "65jYQczvXALK",
        "colab": {
          "base_uri": "https://localhost:8080/"
        },
        "outputId": "ef8426de-9e4d-4d9e-8bdd-2ee3e9fcd147"
      },
      "source": [
        "nome = input(\"Digite seu nome: \")\n",
        "if nome.title() == \"Carlos\":\n",
        "  sobrenome = input('Digite seu sobrenome: ')\n",
        "  print(\"Oi \" + nome.title() + ' ' + sobrenome.title())"
      ],
      "execution_count": null,
      "outputs": [
        {
          "output_type": "stream",
          "name": "stdout",
          "text": [
            "Digite seu nome: Carlos\n",
            "Digite seu sobrenome: Antônio \n",
            "Oi Carlos Antônio \n"
          ]
        }
      ]
    },
    {
      "cell_type": "markdown",
      "metadata": {
        "id": "mzXsnwnEYVXF"
      },
      "source": [
        "### **IF-ELSE**\n",
        "\n",
        "Com frequência você vai querer executar uma ação quando um teste condicional passar, e uma ação diferente em todos os demais casos. A sintaxe if - else de Python torna isso possível. Um bloco if - else é semelhante a uma instrução if simples, porém a instrução else permite definir uma ação ou um conjunto de ações executado quando o teste condicional falhar.\n",
        "\n",
        "```\n",
        "if teste_condicional: \n",
        "  faça algo\n",
        "else:\n",
        "  ação caso a condicional não seja satisfeita\n",
        "```"
      ]
    },
    {
      "cell_type": "code",
      "metadata": {
        "id": "sWfNPGSlxmbE"
      },
      "source": [
        "nome = input(\"Digite seu nome: \")\n",
        "if nome.title() == \"Carlos\":\n",
        "  sobrenome = input('Digite seu sobrenome: ')\n",
        "  print(\"Oi \" + nome.title() + ' ' + sobrenome.title())\n",
        "else:\n",
        "  print(\"Você não é um Carlos!\")"
      ],
      "execution_count": null,
      "outputs": []
    },
    {
      "cell_type": "markdown",
      "metadata": {
        "id": "KYz8J943Y01y"
      },
      "source": [
        "### **IF-ELIF-ELSE**\n",
        "\n",
        "Muitas vezes, você precisará testar mais de duas situações possíveis; para avaliar isso, a sintaxe if - elif - else de Python poderá ser usada. Podemos usar quantos blocos elif quisermos em nosso código ou até mesmo omitir o bloco else.\n",
        "\n",
        "```\n",
        "if teste_condicional: \n",
        "  faça algo\n",
        "elif teste_condicional_2:\n",
        "  faça algo\n",
        "else:\n",
        "  ação caso a condicional não seja satisfeita\n",
        "```\n",
        "\n"
      ]
    },
    {
      "cell_type": "code",
      "metadata": {
        "id": "33lyGE_CYqQ2"
      },
      "source": [
        "idade = int(input(\"Digite a sua idade: \"))\n",
        "if idade >= 21:\n",
        "  print(\"Você atingiu a maioridade total\")\n",
        "elif idade >= 18:\n",
        "  print(\"Você já pode dirigir, caso tenha habilitação\")\n",
        "else:\n",
        "  print(\"Você é muito jovem!\")"
      ],
      "execution_count": null,
      "outputs": []
    },
    {
      "cell_type": "markdown",
      "metadata": {
        "id": "NUiPrf8HanUt"
      },
      "source": [
        "# **Laços de repetição**\n",
        "\n",
        "\n"
      ]
    },
    {
      "cell_type": "markdown",
      "metadata": {
        "id": "S3kZqejzjnGA"
      },
      "source": [
        "## **Introdução**\n",
        "\n",
        "Muitas vezes ao programar, o programador pode se deparar com situações onde um processo precisa ser realizado muitas vezes. Existem situações onde escrever linha a linha de um código pode ser exaustivo/impossível. Para isso, temos os laços de repetição, que são comandos-padrão do Python que podem realizar quantos processos forem desejados com certo padrão na sua estrutura.\n",
        "\n",
        "> Em python existem os laços ***for***, que já foram apresentados e os laços ***while***. O laço ***for*** toma uma coleção de itens (ex: Listas, Dicionários...) e executa um bloco de código uma vez para cada item da coleção. Em comparação, o laço ***while*** executa um bloco de código durante o tempo em que, ou enquanto, uma determinada condição for verdadeira."
      ]
    },
    {
      "cell_type": "markdown",
      "metadata": {
        "id": "ncdVqH_mbbxy"
      },
      "source": [
        "## **Laços WHILE**\n",
        "\n",
        "Com o laço ***while*** podemos executar um conjunto de declarações enquanto a condição seja satisfeita ou igual a ***True***.\n",
        "\n",
        "\n",
        "\n",
        "```\n",
        "# sintaxe:\n",
        "while(condição==True):\n",
        "  faça algo\n",
        "```\n",
        "\n",
        "\n",
        "\n",
        "No exemplo abaixo iniciamos uma variável inteira com o valor 1 e em seguida entramos um laço while cuja condição é que o valor de i seja menor que 6. Desse modo ele executará o código até que o nosso valor de i, que tem o valor 1 adicionado a cada interação, seja maior ou igual a 6."
      ]
    },
    {
      "cell_type": "code",
      "metadata": {
        "id": "LIcE3npeatWA"
      },
      "source": [
        "i=1\n",
        "while(i<6):\n",
        "  print(i)\n",
        "  i+=1"
      ],
      "execution_count": null,
      "outputs": []
    },
    {
      "cell_type": "markdown",
      "metadata": {
        "id": "yvwSb3bhcREg"
      },
      "source": [
        "**Break**\n",
        "\n",
        "Com o ***break*** podemos podemos parar/quebrar o laço, mesmo se a condição do nosso ***while*** seja satisfeita/verdadeira.\n",
        "\n",
        "No exemplo acima iniciamos uma variável inteira com o valor 1 e em seguida entramos um laço while cuja condição é que o valor de i seja menor que 6. Desse modo ele executará o código até que o nosso valor de i, que tem o valor 1 adicionado a cada interação, seja maior ou igual a 6. Porém, temos uma condicional que interrompe o nosso laço caso i seja igual a 3. Como i está no intervalo [1,6), o nosso laço while será interrompido."
      ]
    },
    {
      "cell_type": "code",
      "metadata": {
        "id": "dvqO6ZeocBTf"
      },
      "source": [
        "i=1\n",
        "while(i<6):\n",
        "  if i==3:\n",
        "    break\n",
        "  print(i)\n",
        "  i+=1"
      ],
      "execution_count": null,
      "outputs": []
    },
    {
      "cell_type": "markdown",
      "metadata": {
        "id": "8ddou0HydF9b"
      },
      "source": [
        "**Continue**\n",
        "\n",
        "Com o ***continue*** podemos pular a iteração atual, continuando para a próxima.\n",
        "\n",
        "No exemplo acima iniciamos uma variável inteira com o valor 1 e em seguida entramos um laço while cuja condição é que o valor de i seja menor que 6. Desse modo ele executará o código até que o nosso valor de i, que tem o valor 1 adicionado a cada interação, seja maior ou igual a 6. Porém, se i for igual a 3, a iteração atual será pulada e o valor 3 não será printado."
      ]
    },
    {
      "cell_type": "code",
      "metadata": {
        "id": "-gMq3x5Dcj7c"
      },
      "source": [
        "i=1\n",
        "while(i<6):\n",
        "  if i==3:\n",
        "    i+=1\n",
        "    continue\n",
        "  print(i)\n",
        "  i+=1"
      ],
      "execution_count": null,
      "outputs": []
    },
    {
      "cell_type": "markdown",
      "metadata": {
        "id": "Loxlvmc6eHhz"
      },
      "source": [
        "**Else**\n",
        "\n",
        "Com o else podemos rodar um bloco de código caso nossa condicional do laço while não seja satisfeita/verdadeira.\n",
        "\n"
      ]
    },
    {
      "cell_type": "code",
      "metadata": {
        "id": "G5XUSMqAdega"
      },
      "source": [
        "i=7\n",
        "while(i<6):\n",
        "  print(i)\n",
        "  i+=1\n",
        "else:\n",
        "  print('i é maior que 6')"
      ],
      "execution_count": null,
      "outputs": []
    },
    {
      "cell_type": "markdown",
      "metadata": {
        "id": "5Dj7gaDXfIx-"
      },
      "source": [
        "## **Laços FOR**\n",
        "\n",
        "Um laço for é usado para iterar elementos numa sequência (que pode ser uma lista, uma tupla, um dicionário, um set ou string).\n",
        "\n",
        "> O for do Python é um pouco diferente do que normalmente vemos em outras linguagens de programação, ele funciona mais como um iterador (iterator method) que é encontrado em linguagens de programação orientadas ao objeto.\n",
        "\n",
        "\n",
        "\n",
        "```\n",
        "# Sintaxe\n",
        "for i in [1,2,3,4]:\n",
        "  print(i)\n",
        "```\n",
        "\n"
      ]
    },
    {
      "cell_type": "code",
      "metadata": {
        "id": "gvE4Kri9fNPe",
        "colab": {
          "base_uri": "https://localhost:8080/"
        },
        "outputId": "11a92912-db2c-4d01-a704-f91b16e7c277"
      },
      "source": [
        "frutas = ['Maçã', 'Morango', 'Banana']\n",
        "for fruta in frutas:\n",
        "  fruta = fruta + ' Delicia'\n",
        "  print(fruta)"
      ],
      "execution_count": null,
      "outputs": [
        {
          "output_type": "stream",
          "name": "stdout",
          "text": [
            "Maçã Delicia\n",
            "Morango Delicia\n",
            "Banana Delicia\n"
          ]
        }
      ]
    },
    {
      "cell_type": "markdown",
      "metadata": {
        "id": "PfltBOymgjGZ"
      },
      "source": [
        "**Acessando uma string**\n",
        "\n",
        "As strings são objetos iteráveis. Elas contém uma sequência de caracteres, que podem ser acessados a cada iteração de nosso laço for.\n",
        "\n",
        "```\n",
        "# Sintaxe\n",
        "for x in string:\n",
        "  print(x)\n",
        "```\n"
      ]
    },
    {
      "cell_type": "code",
      "metadata": {
        "id": "gNMBLJn_gV0W",
        "colab": {
          "base_uri": "https://localhost:8080/"
        },
        "outputId": "a9e71c80-9d82-46e0-f1ab-82c3015eee78"
      },
      "source": [
        "for caractere in 'banana':\n",
        "  print(caractere)"
      ],
      "execution_count": null,
      "outputs": [
        {
          "output_type": "stream",
          "name": "stdout",
          "text": [
            "b\n",
            "a\n",
            "n\n",
            "a\n",
            "n\n",
            "a\n"
          ]
        }
      ]
    },
    {
      "cell_type": "markdown",
      "metadata": {
        "id": "dk4nOzGMhF4n"
      },
      "source": [
        "**Função range()**\n",
        "\n",
        "Para percorrer um conjunto de códigos um determinado número de vezes, podemos utilizar a função de range()\n",
        "\n",
        "> A função range() retorna uma sequência de números, começando em 0 por padrão, e aumenta em 1 (por padrão), e termina com um número especificado.\n"
      ]
    },
    {
      "cell_type": "code",
      "metadata": {
        "id": "CDJsJJYQhY--"
      },
      "source": [
        "#OffTopic: Criando uma lista com a função range()\n",
        "print(list(range(0, 6)))"
      ],
      "execution_count": null,
      "outputs": []
    },
    {
      "cell_type": "code",
      "metadata": {
        "id": "t0x2r5Yegs5D",
        "colab": {
          "base_uri": "https://localhost:8080/"
        },
        "outputId": "afc8122f-dda4-439f-b6a7-4855b0a0773f"
      },
      "source": [
        "for i in range(4):\n",
        "  print(i)"
      ],
      "execution_count": null,
      "outputs": [
        {
          "output_type": "stream",
          "name": "stdout",
          "text": [
            "0\n",
            "1\n",
            "2\n",
            "3\n"
          ]
        }
      ]
    },
    {
      "cell_type": "markdown",
      "metadata": {
        "id": "pyTItx34hrEr"
      },
      "source": [
        "**Laços aninhados**\n",
        "\n",
        "Um laço aninhado é um laço dentro de um laço. O \"laço interior\" será executado uma vez para cada iteração do \"laço exterior\". Muito utilizado para acessar e manipular dicionários."
      ]
    },
    {
      "cell_type": "code",
      "metadata": {
        "id": "0ldtfLp5hXjC"
      },
      "source": [
        "adjetivos = ['Gostosa', 'Saborosa', 'Gelada']\n",
        "bebidas = ['Coquinha']\n",
        "\n",
        "for bebida in bebidas:\n",
        "  for adj in adjetivos:\n",
        "    print(bebida,adj)"
      ],
      "execution_count": null,
      "outputs": []
    }
  ]
}